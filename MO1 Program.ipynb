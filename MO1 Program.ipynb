{
 "cells": [
  {
   "cell_type": "code",
   "execution_count": 1,
   "id": "ee44d8e7",
   "metadata": {},
   "outputs": [
    {
     "data": {
      "text/plain": [
       "3600"
      ]
     },
     "execution_count": 1,
     "metadata": {},
     "output_type": "execute_result"
    }
   ],
   "source": [
    "60 * 60"
   ]
  },
  {
   "cell_type": "code",
   "execution_count": 3,
   "id": "96ed61bb",
   "metadata": {},
   "outputs": [
    {
     "name": "stdout",
     "output_type": "stream",
     "text": [
      "24.0\n",
      "24\n"
     ]
    }
   ],
   "source": [
    "seconds_per_hour = 3600\n",
    "seconds_per_day = seconds_per_hour * 24\n",
    "\n",
    "answer1 = seconds_per_day / seconds_per_hour\n",
    "answer2 = seconds_per_day // seconds_per_hour\n",
    "\n",
    "print (answer1)\n",
    "print (answer2) \n"
   ]
  },
  {
   "cell_type": "code",
   "execution_count": null,
   "id": "46264340",
   "metadata": {},
   "outputs": [],
   "source": []
  }
 ],
 "metadata": {
  "kernelspec": {
   "display_name": "Python 3 (ipykernel)",
   "language": "python",
   "name": "python3"
  },
  "language_info": {
   "codemirror_mode": {
    "name": "ipython",
    "version": 3
   },
   "file_extension": ".py",
   "mimetype": "text/x-python",
   "name": "python",
   "nbconvert_exporter": "python",
   "pygments_lexer": "ipython3",
   "version": "3.11.5"
  }
 },
 "nbformat": 4,
 "nbformat_minor": 5
}
